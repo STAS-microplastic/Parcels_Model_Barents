{
 "cells": [
  {
   "cell_type": "code",
   "execution_count": 1,
   "metadata": {},
   "outputs": [],
   "source": [
    "import xarray as xr\n",
    "import numpy as np\n",
    "\n",
    "data_dir = 'D:/Barents_Run_Data/ORCA0083-N006/'\n",
    "\n",
    "datasetM = xr.open_dataset(data_dir + 'domain/mesh_hgr.nc', decode_cf=False)\n",
    "datasetU = xr.open_dataset(data_dir + 'ORCA0083-N06_20110105d05U.nc', decode_cf=False)\n",
    "datasetV = xr.open_dataset(data_dir + 'ORCA0083-N06_20110105d05V.nc', decode_cf=False)\n",
    "\n",
    "dataArrayLonF = datasetM.glamf\n",
    "dataArrayLatF = datasetM.gphif\n",
    "dataArrayTime = datasetM.t\n",
    "dataArrayTime.attrs['time_origin'] = '1950-JAN-01 00:00:00'\n",
    "dataArrayTime.attrs['units'] = 'seconds since 1950-01-01 00:00:00'\n",
    "\n",
    "U = np.array(datasetU.uo)\n",
    "V = np.array(datasetV.vo)\n",
    "U[np.isnan(U)] = 0\n",
    "V[np.isnan(V)] = 0\n",
    "dataArrayLonU = datasetU.nav_lon\n",
    "dataArrayLatU = datasetU.nav_lat\n",
    "dataArrayLonV = datasetV.nav_lon\n",
    "dataArrayLatV = datasetV.nav_lat\n",
    "\n",
    "unBeachU = np.zeros(U.shape[2:])\n",
    "unBeachV = np.zeros(V.shape[2:])\n",
    "\n",
    "for j in range(1, U.shape[2]-2):\n",
    "    for i in range(1, U.shape[3]-2):\n",
    "        if U[0, 0, j+1, i] == 0 and U[0, 0, j+1, i+1] == 0 and V[0, 0, j, i+1] == 0 and V[0, 0, j+1, i+1] == 0:\n",
    "            if abs(U[0, 0, j+1, i-1]) > 1e-10:\n",
    "                unBeachU[j+1, i] = -1\n",
    "            if abs(U[0, 0, j+1, i+2]) > 1e-10:\n",
    "                unBeachU[j+1, i+1] = 1\n",
    "            if abs(V[0, 0, j-1, i+1]) > 1e-10:\n",
    "                unBeachV[j, i+1] = -1\n",
    "            if abs(V[0, 0, j+2, i+1]) > 1e-10:\n",
    "                unBeachV[j+1, i+1] = 1\n",
    "\n",
    "coordsU = {'glamu': dataArrayLonU,\n",
    "           'gphiu': dataArrayLatU}\n",
    "dataArrayUnBeachU = xr.DataArray(unBeachU, name='unBeachU', coords=coordsU, dims=('y', 'x'))\n",
    "coordsV = {'glamv': dataArrayLonV,\n",
    "           'gphiv': dataArrayLatV}\n",
    "dataArrayUnBeachV = xr.DataArray(unBeachV, name='unBeachV', coords=coordsV, dims=('y', 'x'))\n",
    "\n",
    "dataset = xr.Dataset()\n",
    "dataset[dataArrayLonF.name] = dataArrayLonF\n",
    "dataset[dataArrayLatF.name] = dataArrayLatF\n",
    "dataset[dataArrayTime.name] = dataArrayTime\n",
    "dataset[dataArrayUnBeachU.name] = dataArrayUnBeachU\n",
    "dataset[dataArrayUnBeachV.name] = dataArrayUnBeachV\n",
    "dataset.to_netcdf(path='D:/Barents_Run_Data/ORCA0083-N006/ORCA0083-N06_unbeaching_vel.nc', engine='scipy')"
   ]
  },
  {
   "cell_type": "code",
   "execution_count": null,
   "metadata": {},
   "outputs": [],
   "source": []
  }
 ],
 "metadata": {
  "kernelspec": {
   "display_name": "Python 3",
   "language": "python",
   "name": "python3"
  },
  "language_info": {
   "codemirror_mode": {
    "name": "ipython",
    "version": 3
   },
   "file_extension": ".py",
   "mimetype": "text/x-python",
   "name": "python",
   "nbconvert_exporter": "python",
   "pygments_lexer": "ipython3",
   "version": "3.6.11"
  }
 },
 "nbformat": 4,
 "nbformat_minor": 4
}
