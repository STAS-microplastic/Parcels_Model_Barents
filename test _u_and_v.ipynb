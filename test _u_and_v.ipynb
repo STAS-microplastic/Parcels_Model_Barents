{
 "cells": [
  {
   "cell_type": "code",
   "execution_count": 1,
   "metadata": {},
   "outputs": [],
   "source": [
    "from parcels import FieldSet, ParticleSet, JITParticle, AdvectionRK4\n",
    "from glob import glob\n",
    "import numpy as np\n",
    "from datetime import timedelta as delta\n",
    "from os import path\n",
    "import xarray as xr"
   ]
  },
  {
   "cell_type": "code",
   "execution_count": 5,
   "metadata": {},
   "outputs": [
    {
     "name": "stderr",
     "output_type": "stream",
     "text": [
      "WARNING: Casting depth data to np.float32\n",
      "WARNING: Trying to initialize a shared grid with different chunking sizes - action prohibited. Replacing requested field_chunksize with grid's master chunksize.\n",
      "INFO: Compiled JITParticleAdvectionRK4 ==> C:\\Users\\benji\\AppData\\Local\\Temp\\parcels-tmp\\b0c7ac5f5544710f37857a145e2dc9e2_0.dll\n"
     ]
    }
   ],
   "source": [
    "data_dir = 'D:/Barents_Run_Data/ORCA0083-N006/'\n",
    "\n",
    "ufiles = sorted(glob(data_dir+'ORCA0083-N06_20??????d05U.nc'))\n",
    "vfiles = sorted(glob(data_dir+'ORCA0083-N06_20??????d05V.nc'))\n",
    "mesh_mask = data_dir + 'domain/mesh_hgr.nc'\n",
    "\n",
    "\n",
    "filenames = {'U': {'lon': mesh_mask, 'lat': mesh_mask, 'data': ufiles},\n",
    "             'V': {'lon': mesh_mask, 'lat': mesh_mask, 'data': vfiles}}\n",
    "\n",
    "variables = {'U': 'uo',\n",
    "             'V': 'vo'}\n",
    "dimensions = {'U': {'lon': 'glamf', 'lat': 'gphif', 'time': 'time_counter'},\n",
    "              'V': {'lon': 'glamf', 'lat': 'gphif', 'time': 'time_counter'}}\n",
    "\n",
    "fieldset = FieldSet.from_nemo(filenames, variables, dimensions)\n",
    "\n",
    "pset = ParticleSet.from_line(fieldset=fieldset, pclass=JITParticle,\n",
    "                             size=10,\n",
    "                             start=(38, 71),\n",
    "                             finish=(38.4, 72),\n",
    "                             depth=1)\n",
    "\n",
    "kernels = pset.Kernel(AdvectionRK4)\n",
    "pset.execute(kernels, runtime=delta(days=20), dt=delta(hours=6))"
   ]
  },
  {
   "cell_type": "code",
   "execution_count": 13,
   "metadata": {},
   "outputs": [],
   "source": [
    "from parcels import FieldSet, ParticleSet, JITParticle, AdvectionRK4\n",
    "from glob import glob\n",
    "import numpy as np\n",
    "from datetime import timedelta as delta\n",
    "from os import path\n",
    "import xarray as xr\n",
    "import matplotlib.pyplot as plt"
   ]
  },
  {
   "cell_type": "code",
   "execution_count": 30,
   "metadata": {},
   "outputs": [
    {
     "name": "stdout",
     "output_type": "stream",
     "text": [
      "<xarray.Dataset>\n",
      "Dimensions:       (obs: 12, traj: 242)\n",
      "Dimensions without coordinates: obs, traj\n",
      "Data variables:\n",
      "    trajectory    (traj, obs) float64 ...\n",
      "    time          (traj, obs) datetime64[ns] ...\n",
      "    lat           (traj, obs) float64 ...\n",
      "    lon           (traj, obs) float64 ...\n",
      "    z             (traj, obs) float64 ...\n",
      "    age           (traj, obs) float32 ...\n",
      "    beached       (traj, obs) float32 ...\n",
      "    unbeachCount  (traj, obs) float32 ...\n",
      "Attributes:\n",
      "    feature_type:           trajectory\n",
      "    Conventions:            CF-1.6/CF-1.7\n",
      "    ncei_template_version:  NCEI_NetCDF_Trajectory_Template_v2.0\n",
      "    parcels_version:        2.2.1\n",
      "    parcels_mesh:           spherical\n"
     ]
    }
   ],
   "source": [
    "file = '/Users/benji/STAS PROJECT/Test_code/ncfiles/nemo025.nc'\n",
    "data = xr.open_dataset(file)\n",
    "\n",
    "print(data)\n"
   ]
  },
  {
   "cell_type": "code",
   "execution_count": null,
   "metadata": {},
   "outputs": [],
   "source": []
  }
 ],
 "metadata": {
  "kernelspec": {
   "display_name": "Python 3",
   "language": "python",
   "name": "python3"
  },
  "language_info": {
   "codemirror_mode": {
    "name": "ipython",
    "version": 3
   },
   "file_extension": ".py",
   "mimetype": "text/x-python",
   "name": "python",
   "nbconvert_exporter": "python",
   "pygments_lexer": "ipython3",
   "version": "3.6.11"
  }
 },
 "nbformat": 4,
 "nbformat_minor": 4
}
